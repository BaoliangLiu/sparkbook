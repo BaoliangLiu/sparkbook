{
 "cells": [
  {
   "cell_type": "code",
   "execution_count": 4,
   "metadata": {
    "collapsed": true
   },
   "outputs": [],
   "source": [
    "est_raw = sc.textFile(\"3_week_app_est_few_countries_and_categories.tsv\")"
   ]
  },
  {
   "cell_type": "code",
   "execution_count": 5,
   "metadata": {
    "collapsed": true
   },
   "outputs": [],
   "source": [
    "est = est_raw.map(lambda line: line.split('\\t'))"
   ]
  },
  {
   "cell_type": "code",
   "execution_count": 6,
   "metadata": {
    "collapsed": false
   },
   "outputs": [
    {
     "data": {
      "text/plain": [
       "1109993"
      ]
     },
     "execution_count": 6,
     "metadata": {},
     "output_type": "execute_result"
    }
   ],
   "source": [
    "est.count()"
   ]
  },
  {
   "cell_type": "code",
   "execution_count": 7,
   "metadata": {
    "collapsed": false
   },
   "outputs": [],
   "source": [
    "df = spark.createDataFrame(est, ['app_id', 'store_id', 'category_id', 'start_date', 'end_date', 'iphone_free', 'iphone_paid', 'iphone_revenue', 'ipad_free', 'ipad_paid', 'ipad_revenue'])"
   ]
  },
  {
   "cell_type": "code",
   "execution_count": 11,
   "metadata": {
    "collapsed": false
   },
   "outputs": [
    {
     "name": "stdout",
     "output_type": "stream",
     "text": [
      "+----------+\n",
      "|    app_id|\n",
      "+----------+\n",
      "|1196425148|\n",
      "|1141383157|\n",
      "|1169424312|\n",
      "|1163176606|\n",
      "|1162783385|\n",
      "|1191444328|\n",
      "|1180696411|\n",
      "|1207173091|\n",
      "|1148976967|\n",
      "|1187119070|\n",
      "|1190657786|\n",
      "|1156763720|\n",
      "|1160249042|\n",
      "|1151336122|\n",
      "|1159225307|\n",
      "|1200881323|\n",
      "|1210580638|\n",
      "|1184890818|\n",
      "|1187773953|\n",
      "|1174893929|\n",
      "+----------+\n",
      "only showing top 20 rows\n",
      "\n"
     ]
    }
   ],
   "source": [
    "df.filter(df['app_id'] > 1138229192).select('app_id').show()"
   ]
  },
  {
   "cell_type": "code",
   "execution_count": 14,
   "metadata": {
    "collapsed": false
   },
   "outputs": [
    {
     "name": "stdout",
     "output_type": "stream",
     "text": [
      "+----------+----------+--------+-----------+----------+-----+\n",
      "|start_date|  end_date|store_id|category_id|    app_id|count|\n",
      "+----------+----------+--------+-----------+----------+-----+\n",
      "|2017-03-05|2017-03-11|  143441|         36|1091567266|    1|\n",
      "|2017-03-05|2017-03-11|  143441|         36|1109917340|    1|\n",
      "|2017-03-05|2017-03-11|  143441|         36| 920911845|    1|\n",
      "|2017-03-05|2017-03-11|  143441|         36| 927556526|    1|\n",
      "|2017-03-05|2017-03-11|  143441|         36| 329513924|    1|\n",
      "|2017-03-05|2017-03-11|  143441|         36|1004666387|    1|\n",
      "|2017-03-05|2017-03-11|  143441|         36| 823392086|    1|\n",
      "|2017-03-05|2017-03-11|  143441|         36|1062204827|    1|\n",
      "|2017-03-05|2017-03-11|  143441|         36| 992735574|    1|\n",
      "|2017-03-05|2017-03-11|  143441|         36| 943453914|    1|\n",
      "|2017-03-05|2017-03-11|  143441|         36|1140413043|    1|\n",
      "|2017-03-05|2017-03-11|  143441|         36|1042065343|    1|\n",
      "|2017-03-05|2017-03-11|  143441|         36| 950266920|    1|\n",
      "|2017-03-05|2017-03-11|  143441|         36| 942926747|    1|\n",
      "|2017-03-05|2017-03-11|  143441|         36| 361408286|    1|\n",
      "|2017-03-05|2017-03-11|  143441|         36|1035199750|    1|\n",
      "|2017-03-05|2017-03-11|  143441|         36| 538747470|    1|\n",
      "|2017-03-05|2017-03-11|  143441|         36|1134551817|    1|\n",
      "|2017-03-05|2017-03-11|  143441|         36| 399763938|    1|\n",
      "|2017-03-05|2017-03-11|  143441|         36| 701751892|    1|\n",
      "+----------+----------+--------+-----------+----------+-----+\n",
      "only showing top 20 rows\n",
      "\n"
     ]
    }
   ],
   "source": [
    "df.groupBy(['start_date', 'end_date', 'store_id', 'category_id', 'app_id']).count().show()"
   ]
  },
  {
   "cell_type": "code",
   "execution_count": null,
   "metadata": {
    "collapsed": true
   },
   "outputs": [],
   "source": [
    "df"
   ]
  }
 ],
 "metadata": {
  "kernelspec": {
   "display_name": "Python 2",
   "language": "python",
   "name": "python2"
  },
  "language_info": {
   "codemirror_mode": {
    "name": "ipython",
    "version": 2
   },
   "file_extension": ".py",
   "mimetype": "text/x-python",
   "name": "python",
   "nbconvert_exporter": "python",
   "pygments_lexer": "ipython2",
   "version": "2.7.13"
  }
 },
 "nbformat": 4,
 "nbformat_minor": 2
}
